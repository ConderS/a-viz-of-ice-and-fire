{
 "cells": [
  {
   "cell_type": "markdown",
   "metadata": {},
   "source": [
    "# Testing"
   ]
  },
  {
   "cell_type": "code",
   "execution_count": 2,
   "metadata": {
    "collapsed": false
   },
   "outputs": [
    {
     "name": "stdout",
     "output_type": "stream",
     "text": [
      "Populating the interactive namespace from numpy and matplotlib\n"
     ]
    },
    {
     "name": "stderr",
     "output_type": "stream",
     "text": [
      "/Users/fredhohman/anaconda/lib/python2.7/site-packages/IPython/core/magics/pylab.py:161: UserWarning: pylab import has clobbered these variables: ['random']\n",
      "`%matplotlib` prevents importing * from pylab and numpy\n",
      "  \"\\n`%matplotlib` prevents importing * from pylab and numpy\"\n"
     ]
    }
   ],
   "source": [
    "import random\n",
    "import math\n",
    "import colorsys\n",
    "# import matplotlib.pyplot as plt\n",
    "import numpy as np\n",
    "from PIL import Image, ImageDraw\n",
    "import json\n",
    "\n",
    "%pylab inline\n",
    "figsize(12,8)"
   ]
  },
  {
   "cell_type": "code",
   "execution_count": null,
   "metadata": {
    "collapsed": true
   },
   "outputs": [],
   "source": []
  },
  {
   "cell_type": "code",
   "execution_count": 3,
   "metadata": {
    "collapsed": false
   },
   "outputs": [],
   "source": [
    "def display_colours(colours):\n",
    "    colours = np.array(colours)\n",
    "    figsize(13,2)\n",
    "    N = colours.shape[0]\n",
    "    for i,c in enumerate(colours):\n",
    "        ax = subplot(1,N,(i+1), axisbg=c)\n",
    "        ax.get_xaxis().set_visible(False)\n",
    "        ax.get_yaxis().set_visible(False)\n",
    " \n",
    "    plt.show()"
   ]
  },
  {
   "cell_type": "code",
   "execution_count": 4,
   "metadata": {
    "collapsed": false
   },
   "outputs": [
    {
     "data": {
      "image/png": "[encoded data removed]",
      "text/plain": [
       "<matplotlib.figure.Figure at 0x10838a310>"
      ]
     },
     "metadata": {},
     "output_type": "display_data"
    },
    {
     "data": {
      "image/png": "[encoded data removed]",
      "text/plain": [
       "<matplotlib.figure.Figure at 0x10a4381d0>"
      ]
     },
     "metadata": {},
     "output_type": "display_data"
    }
   ],
   "source": [
    "colours_length = 50\n",
    "colours = []\n",
    "for i in range(1, colours_length):\n",
    "    colours.append (\n",
    "        [\n",
    "        random.random(),\n",
    "        random.random(),\n",
    "        random.random()\n",
    "        ]\n",
    "    )\n",
    "\n",
    "# print(colours)\n",
    "display_colours(colours)\n",
    "\n",
    "def step (r,g,b, repetitions=1):\n",
    "    lum = math.sqrt( .241 * r + .691 * g + .068 * b )\n",
    "\n",
    "    h, s, v = colorsys.rgb_to_hsv(r,g,b)\n",
    "\n",
    "    h2 = int(h * repetitions)\n",
    "    lum2 = int(lum * repetitions)\n",
    "    v2 = int(v * repetitions)\n",
    "\n",
    "    if h2 % 2 == 1:\n",
    "        v2 = repetitions - v2\n",
    "        lum = repetitions - lum\n",
    "\n",
    "    return (h2, lum, v2)\n",
    "\n",
    "colours.sort(key=lambda (r,g,b): step(r,g,b,8))\n",
    "\n",
    "# print(colours)\n",
    "display_colours(colours)\n"
   ]
  },
  {
   "cell_type": "markdown",
   "metadata": {},
   "source": [
    "# Top block \"seasons\""
   ]
  },
  {
   "cell_type": "code",
   "execution_count": 84,
   "metadata": {
    "collapsed": false
   },
   "outputs": [
    {
     "name": "stdout",
     "output_type": "stream",
     "text": [
      "6\n"
     ]
    }
   ],
   "source": [
    "data_path=\"/Users/fredhohman/Github/cs-7450/data/color/seasons.json\"\n",
    "with open(data_path) as json_data:\n",
    "    d = json.load(json_data)\n",
    "    print len(d['palettes'])"
   ]
  },
  {
   "cell_type": "code",
   "execution_count": 85,
   "metadata": {
    "collapsed": false
   },
   "outputs": [],
   "source": [
    "d['palettes'][0][:];"
   ]
  },
  {
   "cell_type": "code",
   "execution_count": 86,
   "metadata": {
    "collapsed": false
   },
   "outputs": [],
   "source": [
    "for season in range(0,6):\n",
    "    temp = d['palettes'][season]\n",
    "    temp_np = np.array(temp)\n",
    "    temp_np = temp_np / 255.0\n",
    "    temp_list = np.ndarray.tolist(temp_np)\n",
    "#     display_colours(temp_list)\n",
    "    temp_list.sort(key=lambda (r,g,b): step(r,g,b,8))\n",
    "#     display_colours(temp_list)\n",
    "    sorted_np = np.round(np.array(temp_list)*255.0)\n",
    "    sorted_list = np.ndarray.tolist(sorted_np)\n",
    "    d['palettes'][season] = sorted_list"
   ]
  },
  {
   "cell_type": "code",
   "execution_count": 87,
   "metadata": {
    "collapsed": false
   },
   "outputs": [],
   "source": [
    "d['palettes'][0][:];"
   ]
  },
  {
   "cell_type": "code",
   "execution_count": null,
   "metadata": {
    "collapsed": false
   },
   "outputs": [],
   "source": []
  },
  {
   "cell_type": "code",
   "execution_count": 90,
   "metadata": {
    "collapsed": false
   },
   "outputs": [],
   "source": [
    "with open('/Users/fredhohman/Github/cs-7450/data/color/' + 'seasons_sorted.json', 'w') as outfile:\n",
    "    json.dump(d, outfile)"
   ]
  },
  {
   "cell_type": "markdown",
   "metadata": {},
   "source": [
    "# Middle block \"series\""
   ]
  },
  {
   "cell_type": "code",
   "execution_count": 94,
   "metadata": {
    "collapsed": false
   },
   "outputs": [
    {
     "name": "stdout",
     "output_type": "stream",
     "text": [
      "60\n"
     ]
    }
   ],
   "source": [
    "data_path=\"/Users/fredhohman/Github/cs-7450/data/color/series.json\"\n",
    "with open(data_path) as json_data:\n",
    "    d = json.load(json_data)\n",
    "    print len(d['palettes'])"
   ]
  },
  {
   "cell_type": "code",
   "execution_count": 95,
   "metadata": {
    "collapsed": true
   },
   "outputs": [],
   "source": [
    "for episode in range(0,60):\n",
    "    temp = d['palettes'][episode]\n",
    "    temp_np = np.array(temp)\n",
    "    temp_np = temp_np / 255.0\n",
    "    temp_list = np.ndarray.tolist(temp_np)\n",
    "#     display_colours(temp_list)\n",
    "    temp_list.sort(key=lambda (r,g,b): step(r,g,b,8))\n",
    "#     display_colours(temp_list)\n",
    "    sorted_np = np.round(np.array(temp_list)*255.0)\n",
    "    sorted_list = np.ndarray.tolist(sorted_np)\n",
    "    d['palettes'][episode] = sorted_list"
   ]
  },
  {
   "cell_type": "code",
   "execution_count": 96,
   "metadata": {
    "collapsed": true
   },
   "outputs": [],
   "source": [
    "with open('/Users/fredhohman/Github/cs-7450/data/color/' + 'series_sorted.json', 'w') as outfile:\n",
    "    json.dump(d, outfile)"
   ]
  },
  {
   "cell_type": "code",
   "execution_count": null,
   "metadata": {
    "collapsed": true
   },
   "outputs": [],
   "source": []
  },
  {
   "cell_type": "markdown",
   "metadata": {},
   "source": [
    "# Bottom block \"chunks\""
   ]
  },
  {
   "cell_type": "code",
   "execution_count": 105,
   "metadata": {
    "collapsed": true
   },
   "outputs": [],
   "source": [
    "def make_episode_list():\n",
    "    \n",
    "    episode_list = []\n",
    "\n",
    "    for season_num in [1, 2, 3, 4, 5, 6]:\n",
    "        for episode_num in [1, 2, 3, 4, 5, 6, 7, 8, 9, 10]:\n",
    "            episode = 's' + str(season_num) + 'e' + str(episode_num)\n",
    "            episode_list.append(episode)\n",
    "    return episode_list"
   ]
  },
  {
   "cell_type": "code",
   "execution_count": 106,
   "metadata": {
    "collapsed": false
   },
   "outputs": [],
   "source": [
    "episode_list = make_episode_list()"
   ]
  },
  {
   "cell_type": "code",
   "execution_count": 107,
   "metadata": {
    "collapsed": false
   },
   "outputs": [
    {
     "name": "stdout",
     "output_type": "stream",
     "text": [
      "60\n"
     ]
    }
   ],
   "source": []
  },
  {
   "cell_type": "code",
   "execution_count": 112,
   "metadata": {
    "collapsed": false
   },
   "outputs": [],
   "source": [
    "for episode in episode_list:\n",
    "    data_path=\"/Users/fredhohman/Github/cs-7450/data/color/\" + episode + \"_chunk.json\"\n",
    "    with open(data_path) as json_data:\n",
    "        d = json.load(json_data)\n",
    "\n",
    "    for chunk in range(0,60):\n",
    "        temp = d['palettes'][chunk]\n",
    "        temp_np = np.array(temp)\n",
    "        temp_np = temp_np / 255.0\n",
    "        temp_list = np.ndarray.tolist(temp_np)\n",
    "    #     display_colours(temp_list)\n",
    "        temp_list.sort(key=lambda (r,g,b): step(r,g,b,8))\n",
    "    #     display_colours(temp_list)\n",
    "        sorted_np = np.round(np.array(temp_list)*255.0)\n",
    "        sorted_list = np.ndarray.tolist(sorted_np)\n",
    "        d['palettes'][chunk] = sorted_list\n",
    "\n",
    "    with open('/Users/fredhohman/Github/cs-7450/data/color/' + episode + '_chunk_sorted.json', 'w') as outfile:\n",
    "        json.dump(d, outfile)"
   ]
  },
  {
   "cell_type": "code",
   "execution_count": 110,
   "metadata": {
    "collapsed": true
   },
   "outputs": [],
   "source": []
  },
  {
   "cell_type": "markdown",
   "metadata": {
    "collapsed": true
   },
   "source": [
    "# title intro image"
   ]
  },
  {
   "cell_type": "code",
   "execution_count": 9,
   "metadata": {
    "collapsed": false
   },
   "outputs": [
    {
     "name": "stdout",
     "output_type": "stream",
     "text": [
      "[[[119, 64, 36], [57, 25, 16], [182, 129, 66], [220, 194, 114], [243, 246, 225], [237, 234, 164], [151, 121, 95], [188, 162, 148], [84, 84, 52], [196, 200, 188]]]\n"
     ]
    }
   ],
   "source": [
    "data_path=\"/Users/fredhohman/Github/cs-7450/intro.json\"\n",
    "with open(data_path) as json_data:\n",
    "    d = json.load(json_data)\n",
    "\n",
    "temp = d['palettes']\n",
    "temp_np = np.array(temp)\n",
    "temp_np = temp_np / 255.0\n",
    "temp_list = np.ndarray.tolist(temp_np)\n",
    "#     display_colours(temp_list)\n",
    "temp_list.sort(key=lambda (r,g,b): step(r,g,b,8))\n",
    "#     display_colours(temp_list)\n",
    "sorted_np = np.round(np.array(temp_list)*255.0)\n",
    "sorted_list = np.ndarray.tolist(sorted_np)\n",
    "d['palettes'][chunk] = sorted_list\n",
    "\n",
    "\n"
   ]
  },
  {
   "cell_type": "code",
   "execution_count": null,
   "metadata": {
    "collapsed": true
   },
   "outputs": [],
   "source": []
  }
 ],
 "metadata": {
  "kernelspec": {
   "display_name": "Python 2",
   "language": "python",
   "name": "python2"
  }
 },
 "nbformat": 4,
 "nbformat_minor": 0
}
