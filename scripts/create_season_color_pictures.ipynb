{
 "cells": [
  {
   "cell_type": "code",
   "execution_count": 9,
   "metadata": {
    "collapsed": false
   },
   "outputs": [],
   "source": [
    "import json\n",
    "import numpy as np\n",
    "from colorthief import ColorThief\n",
    "from scipy.ndimage import imread\n",
    "from scipy.misc import imsave\n",
    "import matplotlib.pyplot as plt\n",
    "%matplotlib inline"
   ]
  },
  {
   "cell_type": "code",
   "execution_count": 21,
   "metadata": {
    "collapsed": false
   },
   "outputs": [
    {
     "name": "stdout",
     "output_type": "stream",
     "text": [
      "6\n"
     ]
    }
   ],
   "source": [
    "data_path=\"/Users/fredhohman/Github/cs-7450/data/color/seasons.json\"\n",
    "with open(data_path) as json_data:\n",
    "    d = json.load(json_data)\n",
    "    print len(d['palettes'])"
   ]
  },
  {
   "cell_type": "code",
   "execution_count": 11,
   "metadata": {
    "collapsed": false
   },
   "outputs": [],
   "source": [
    "image = imread('/Users/fredhohman/Github/cs-7450/series.png')"
   ]
  },
  {
   "cell_type": "code",
   "execution_count": 12,
   "metadata": {
    "collapsed": false
   },
   "outputs": [
    {
     "data": {
      "image/png": "[encoded data removed]",
      "text/plain": [
       "<matplotlib.figure.Figure at 0x10cf4cb90>"
      ]
     },
     "metadata": {},
     "output_type": "display_data"
    }
   ],
   "source": [
    "season1 = image[0:100,:,:]\n",
    "season1.shape\n",
    "plt.imshow(season1)\n",
    "plt.show()"
   ]
  },
  {
   "cell_type": "code",
   "execution_count": 14,
   "metadata": {
    "collapsed": true
   },
   "outputs": [],
   "source": [
    "season1 = image[0:100,:,:]\n",
    "season2 = image[100:200,:,:]\n",
    "season3 = image[200:300,:,:]\n",
    "season4 = image[300:400,:,:]\n",
    "season5 = image[400:500,:,:]\n",
    "season6 = image[500:600,:,:]\n",
    "\n",
    "imsave('../season1.png',season1)\n",
    "imsave('../season2.png',season2)\n",
    "imsave('../season3.png',season3)\n",
    "imsave('../season4.png',season4)\n",
    "imsave('../season5.png',season5)\n",
    "imsave('../season6.png',season6)"
   ]
  },
  {
   "cell_type": "markdown",
   "metadata": {},
   "source": [
    "now get colors"
   ]
  },
  {
   "cell_type": "code",
   "execution_count": null,
   "metadata": {
    "collapsed": true
   },
   "outputs": [],
   "source": []
  }
 ],
 "metadata": {
  "kernelspec": {
   "display_name": "Python 2",
   "language": "python",
   "name": "python2"
  },
  "language_info": {
   "codemirror_mode": {
    "name": "ipython",
    "version": 2
   },
   "file_extension": ".py",
   "mimetype": "text/x-python",
   "name": "python",
   "nbconvert_exporter": "python",
   "pygments_lexer": "ipython2",
   "version": "2.7.12"
  }
 },
 "nbformat": 4,
 "nbformat_minor": 0
}
