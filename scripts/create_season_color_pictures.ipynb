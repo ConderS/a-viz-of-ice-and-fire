{
 "cells": [
  {
   "cell_type": "code",
   "execution_count": 8,
   "metadata": {
    "collapsed": false
   },
   "outputs": [],
   "source": [
    "import json\n",
    "import numpy as np\n",
    "from colorthief import ColorThief\n",
    "from scipy.ndimage import imread\n",
    "from scipy.misc import imsave\n",
    "import matplotlib.pyplot as plt\n",
    "%matplotlib inline"
   ]
  },
  {
   "cell_type": "code",
   "execution_count": 9,
   "metadata": {
    "collapsed": true
   },
   "outputs": [],
   "source": [
    "# data_path=\"/Users/fredhohman/Github/cs-7450/data/color/seasons.json\"\n",
    "# with open(data_path) as json_data:\n",
    "#     d = json.load(json_data)\n",
    "#     print len(d['palettes'])\n",
    "    \n",
    "# # image = imread('/Users/fredhohman/Github/cs-7450/series.png')\n",
    "# season1 = image[0:100,:,:]\n",
    "# season1.shape\n",
    "# plt.imshow(season1)\n",
    "# plt.show()\n",
    "\n",
    "# season1 = image[0:100,:,:]\n",
    "# season2 = image[100:200,:,:]\n",
    "# season3 = image[200:300,:,:]\n",
    "# season4 = image[300:400,:,:]\n",
    "# season5 = image[400:500,:,:]\n",
    "# season6 = image[500:600,:,:]\n",
    "\n",
    "# # imsave('../season1.png',season1)\n",
    "# # imsave('../season2.png',season2)\n",
    "# # imsave('../season3.png',season3)\n",
    "# # imsave('../season4.png',season4)\n",
    "# # imsave('../season5.png',season5)\n",
    "# # imsave('../season6.png',season6)"
   ]
  },
  {
   "cell_type": "markdown",
   "metadata": {},
   "source": [
    "now do this for episodes"
   ]
  },
  {
   "cell_type": "code",
   "execution_count": 16,
   "metadata": {
    "collapsed": true
   },
   "outputs": [],
   "source": [
    "def make_episode_list():\n",
    "    \n",
    "    episode_list = []\n",
    "\n",
    "    for season_num in [1, 2, 3, 4, 5, 6]:\n",
    "        for episode_num in [1, 2, 3, 4, 5, 6, 7, 8, 9, 10]:\n",
    "            episode = 's' + str(season_num) + 'e' + str(episode_num)\n",
    "            episode_list.append(episode)\n",
    "    return episode_list"
   ]
  },
  {
   "cell_type": "code",
   "execution_count": 53,
   "metadata": {
    "collapsed": false
   },
   "outputs": [],
   "source": [
    "dir_path = \"/Users/fredhohman/Github/cs-7450/data/color-palettes/\"\n",
    "episode_list = make_episode_list()\n",
    "\n",
    "num_of_chunks = 60\n",
    "    \n",
    "for episode in episode_list:\n",
    "    episode_path = episode + \".png\"\n",
    "    image = imread(image_path + episode_path)\n",
    "    \n",
    "    num_of_frames_in_episode = image.shape[0]/10\n",
    "    num_of_frames_per_chunk = num_of_frames_in_episode/num_of_chunks\n",
    "    num_of_pixels_per_chunk = num_of_frames_per_chunk*10\n",
    "    \n",
    "    for i in range(0,num_of_chunks):\n",
    "        image_chunk = image[i*num_of_pixels_per_chunk:(i+1)*num_of_pixels_per_chunk]\n",
    "        imsave(\"/Users/fredhohman/Github/cs-7450/data/color-palettes-chunk-temp/\" + str(episode) + \n",
    "               \"/\" +\"chunk\" + str(i+1) + \".png\", image_chunk)\n"
   ]
  },
  {
   "cell_type": "markdown",
   "metadata": {},
   "source": [
    "testing below"
   ]
  },
  {
   "cell_type": "code",
   "execution_count": 38,
   "metadata": {
    "collapsed": true
   },
   "outputs": [],
   "source": [
    "num_of_chunks = 60"
   ]
  },
  {
   "cell_type": "code",
   "execution_count": 39,
   "metadata": {
    "collapsed": false
   },
   "outputs": [],
   "source": [
    "num_of_frames_in_episode = image.shape[0]/10"
   ]
  },
  {
   "cell_type": "code",
   "execution_count": 40,
   "metadata": {
    "collapsed": false
   },
   "outputs": [
    {
     "data": {
      "text/plain": [
       "61"
      ]
     },
     "execution_count": 40,
     "metadata": {},
     "output_type": "execute_result"
    }
   ],
   "source": [
    "num_of_frames_per_chunk = num_of_frames_in_episode/num_of_chunks\n",
    "num_of_frames_per_chunk"
   ]
  },
  {
   "cell_type": "code",
   "execution_count": 41,
   "metadata": {
    "collapsed": true
   },
   "outputs": [],
   "source": [
    "num_of_pixels_per_chunk = num_of_frames_per_chunk*10"
   ]
  },
  {
   "cell_type": "code",
   "execution_count": 42,
   "metadata": {
    "collapsed": false
   },
   "outputs": [
    {
     "data": {
      "text/plain": [
       "<matplotlib.image.AxesImage at 0x114a36790>"
      ]
     },
     "execution_count": 42,
     "metadata": {},
     "output_type": "execute_result"
    },
    {
     "data": {
      "image/png": "[encoded data removed]",
      "text/plain": [
       "<matplotlib.figure.Figure at 0x114da7990>"
      ]
     },
     "metadata": {},
     "output_type": "display_data"
    }
   ],
   "source": [
    "plt.imshow(image[59*num_of_pixels_per_chunk:60*num_of_pixels_per_chunk])"
   ]
  },
  {
   "cell_type": "code",
   "execution_count": 48,
   "metadata": {
    "collapsed": false
   },
   "outputs": [],
   "source": [
    "for i in range(0,15):\n",
    "    image_chunk = image[i*num_of_pixels_per_chunk:(i+1)*num_of_pixels_per_chunk]\n",
    "    imsave(\"/Users/fredhohman/Github/cs-7450/data/color-palettes-chunk-temp/s1e1/\"+\"chunk\" + str(i+1) + \".png\", image_chunk)"
   ]
  },
  {
   "cell_type": "code",
   "execution_count": null,
   "metadata": {
    "collapsed": true
   },
   "outputs": [],
   "source": []
  }
 ],
 "metadata": {
  "kernelspec": {
   "display_name": "Python 2",
   "language": "python",
   "name": "python2"
  },
  "language_info": {
   "codemirror_mode": {
    "name": "ipython",
    "version": 2
   },
   "file_extension": ".py",
   "mimetype": "text/x-python",
   "name": "python",
   "nbconvert_exporter": "python",
   "pygments_lexer": "ipython2",
   "version": "2.7.12"
  }
 },
 "nbformat": 4,
 "nbformat_minor": 0
}
