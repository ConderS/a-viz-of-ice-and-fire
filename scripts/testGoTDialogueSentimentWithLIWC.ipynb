{
 "cells": [
  {
   "cell_type": "code",
   "execution_count": 5,
   "metadata": {
    "collapsed": true
   },
   "outputs": [],
   "source": [
    "import clean_extracted_text, get_LIWC_counts\n",
    "reload (clean_extracted_text)\n",
    "reload (get_LIWC_counts)\n",
    "from get_LIWC_counts import get_LIWC_counts\n",
    "from clean_extracted_text import clean_text\n",
    "import os, glob\n",
    "from nltk.tokenize import WordPunctTokenizer\n",
    "from collections import Counter\n",
    "import json"
   ]
  },
  {
   "cell_type": "code",
   "execution_count": 2,
   "metadata": {
    "collapsed": false
   },
   "outputs": [],
   "source": [
    "dataDir = \"../data/subtitles/subtitlesInTSV/\"\n",
    "LIWC_dir = \"/hg191/corpora/LIWC/resources/liwc_lexicons/\"\n",
    "files = sorted (glob.glob (os.path.join (dataDir, \"*.tsv\")))\n",
    "categories = os.listdir (LIWC_dir)\n",
    "tokenizer = WordPunctTokenizer()\n",
    "LIWC_words = {category: [\"^\" + l.strip() + \"$\" for l in open(os.path.join(LIWC_dir, category), 'r')] for category in categories} \n",
    "\n",
    "jsonList = []\n",
    "              \n",
    "for filename in files:\n",
    "    with open (filename) as fin:\n",
    "        categoryCounts = {category:Counter() for category in categories}  \n",
    "        for line in fin:\n",
    "            if \"frameNo\" in line:\n",
    "                continue\n",
    "            dialogue = line.strip().split(\"\\t\")[-1]\n",
    "            dialogue = dialogue.replace (\"$\", \" \")\n",
    "            tokens = tokenizer.tokenize(clean_text (dialogue.strip()))\n",
    "            for category in categories:\n",
    "                counts = get_LIWC_counts(tokens, LIWC_words=LIWC_words[category])\n",
    "                if len (counts) > 0:\n",
    "                    #print counts\n",
    "                    categoryCounts[category].update (counts)\n",
    "    temp_dict = {\"name\": os.path.basename (filename)}\n",
    "    temp_dict.update (categoryCounts)\n",
    "    jsonList.append (temp_dict)"
   ]
  },
  {
   "cell_type": "code",
   "execution_count": 3,
   "metadata": {
    "collapsed": false
   },
   "outputs": [
    {
     "name": "stdout",
     "output_type": "stream",
     "text": [
      "{'play': 1, 'good': 1, 'love': 1, 'pretty': 1, 'relax': 1, 'please': 2, 'share': 1, 'accept': 1, 'certain': 1, 'ready': 1, 'clever': 1, 'likes': 1, 'dear': 1, 'friend': 1, 'trust': 1, 'fine': 1, 'grace': 1, 'like': 1, 'perfect': 1, 'loved': 1, 'lovely': 1, 'talent': 1, 'thank': 1, 'giving': 1, 'true': 1, 'well': 1, 'honor': 1, 'better': 1, 'favor': 1, 'loyal': 1, 'won': 1, 'hope': 1, 'easy': 1, 'win': 1, 'care': 1, 'sweet': 1, 'agree': 1, 'sure': 1, 'happy': 1}\n"
     ]
    }
   ],
   "source": [
    "with open (\"../data/text_category_stats/episodeLevel.json\", \"w\") as fout:\n",
    "    json.dump (jsonList, fout)"
   ]
  }
 ],
 "metadata": {
  "kernelspec": {
   "display_name": "Python 2",
   "language": "python",
   "name": "python2"
  },
  "language_info": {
   "codemirror_mode": {
    "name": "ipython",
    "version": 2
   },
   "file_extension": ".py",
   "mimetype": "text/x-python",
   "name": "python",
   "nbconvert_exporter": "python",
   "pygments_lexer": "ipython2",
   "version": "2.7.6"
  }
 },
 "nbformat": 4,
 "nbformat_minor": 0
}
